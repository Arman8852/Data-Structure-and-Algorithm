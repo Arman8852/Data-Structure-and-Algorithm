{
  "nbformat": 4,
  "nbformat_minor": 0,
  "metadata": {
    "colab": {
      "name": "Matrix_Multiplication.ipynb",
      "provenance": []
    },
    "kernelspec": {
      "name": "python3",
      "display_name": "Python 3"
    },
    "language_info": {
      "name": "python"
    }
  },
  "cells": [
    {
      "cell_type": "code",
      "source": [
        "##Decided to build an algorithm using my math intuition to multiply 2 matrix\n",
        "##and also find out the time complexity of that algorithm\n",
        "##after watching a tutorial on Data Structure and Algorithm\n",
        "\n",
        "import numpy as np\n",
        "from time import time\n",
        "\n",
        "\n",
        "a = np.array([[1,4],[2,5],[3,6]])\n",
        "\n",
        "b = np.array([[4,2],[5,6]])\n",
        "\n",
        "multiply_algo = np.zeros((a.shape[0], b.shape[1]))\n",
        "\n",
        "\n",
        "t0 = time()\n",
        "\n",
        "multiply_np = np.matmul(a,b)\n",
        "\n",
        "t1 = time()\n",
        "\n",
        "\n",
        "t2 = time()\n",
        "\n",
        "for k in range(b.shape[1]):\n",
        "\n",
        "  for i in range(a.shape[0]):\n",
        "\n",
        "    for j in range(a.shape[1]):\n",
        "\n",
        "      multiply_algo[i,k] = multiply_algo[i,k] + (a[i,j]*b[j,k])\n",
        "\n",
        "t3 = time()\n",
        "\n",
        "\n",
        "## Time Complexity O(n^3)!!!!!\n",
        "\n",
        "## Not an optimized algorithm to multiply two matrix (-_-) (-_-) (-_-)\n",
        "\n",
        "\n",
        "print('Numpy Matrix Multiplication:\\n')\n",
        "\n",
        "print(multiply_np)\n",
        "\n",
        "print('\\nTime taken by Numpy:', (t1-t0),'\\n')\n",
        "\n",
        "\n",
        "\n",
        "\n",
        "print('\\nMy Algorithm of Matrix Multiplication:\\n')\n",
        "\n",
        "print(multiply_algo,'\\n')\n",
        "\n",
        "print('Time taken by My Algorithm:', (t3-t2))"
      ],
      "metadata": {
        "colab": {
          "base_uri": "https://localhost:8080/"
        },
        "id": "WJNRin9xKrZA",
        "outputId": "104b73f9-0593-4fc8-81b9-ca3c04e9a1c1"
      },
      "execution_count": 31,
      "outputs": [
        {
          "output_type": "stream",
          "name": "stdout",
          "text": [
            "Numpy Matrix Multiplication:\n",
            "\n",
            "[[24 26]\n",
            " [33 34]\n",
            " [42 42]]\n",
            "\n",
            "Time taken by Numpy: 9.083747863769531e-05 \n",
            "\n",
            "\n",
            "My Algorithm of Matrix Multiplication:\n",
            "\n",
            "[[24. 26.]\n",
            " [33. 34.]\n",
            " [42. 42.]] \n",
            "\n",
            "Time taken by My Algorithm: 0.0002346038818359375\n"
          ]
        }
      ]
    }
  ]
}