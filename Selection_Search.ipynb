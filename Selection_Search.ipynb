{
  "nbformat": 4,
  "nbformat_minor": 0,
  "metadata": {
    "colab": {
      "name": "Selection_Search.ipynb",
      "provenance": []
    },
    "kernelspec": {
      "name": "python3",
      "display_name": "Python 3"
    },
    "language_info": {
      "name": "python"
    }
  },
  "cells": [
    {
      "cell_type": "code",
      "source": [
        "##creating a sorted list of random numbers\n",
        "import random\n",
        "A = []\n",
        "\n",
        "for i in range(0,20):\n",
        "  n = random.randint(1,100)\n",
        "  A.append(n)\n",
        "\n",
        "print('Unsorted list before selection sort\\n')\n",
        "print(A, '\\n')"
      ],
      "metadata": {
        "colab": {
          "base_uri": "https://localhost:8080/"
        },
        "id": "mMXLqJ--1ZFf",
        "outputId": "cc2cad2e-99a6-4adf-9aa1-bdf37831486c"
      },
      "execution_count": 1,
      "outputs": [
        {
          "output_type": "stream",
          "name": "stdout",
          "text": [
            "Unsorted list before selection sort\n",
            "\n",
            "[38, 17, 55, 83, 63, 33, 18, 66, 89, 71, 24, 25, 29, 89, 81, 48, 89, 88, 48, 23] \n",
            "\n"
          ]
        }
      ]
    },
    {
      "cell_type": "code",
      "execution_count": 2,
      "metadata": {
        "colab": {
          "base_uri": "https://localhost:8080/"
        },
        "id": "akS1gh-vn3xh",
        "outputId": "861edbf2-4beb-4cc3-989e-53c7a7f7e7e2"
      },
      "outputs": [
        {
          "output_type": "stream",
          "name": "stdout",
          "text": [
            "\n",
            "Time taken by selection sort algorithom: 0.0002758502960205078 \n",
            "\n",
            "Sorted list after selection sort\n",
            "\n",
            "[17, 18, 23, 24, 25, 29, 33, 38, 48, 48, 55, 63, 66, 71, 81, 83, 88, 89, 89, 89]\n"
          ]
        }
      ],
      "source": [
        "#Selection Sort\n",
        "\n",
        "from time import time\n",
        "\n",
        "t0 = time()\n",
        "\n",
        "\n",
        "for i in range (len(A)-1):\n",
        "\n",
        "  for k in range(i+1, len(A)):\n",
        "\n",
        "    if A[i] > A[k]:\n",
        "\n",
        "      placeholder = A[k] \n",
        "\n",
        "      A[k] = A[i]\n",
        "\n",
        "      A[i] = placeholder\n",
        "\n",
        "t1 = time()\n",
        "\n",
        "\n",
        "print('\\nTime taken by selection sort algorithom:', (t1-t0),'\\n')\n",
        "\n",
        "print('Sorted list after selection sort\\n')\n",
        "print(A)"
      ]
    }
  ]
}