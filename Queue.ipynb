{
  "nbformat": 4,
  "nbformat_minor": 0,
  "metadata": {
    "colab": {
      "name": "Queue.ipynb",
      "provenance": []
    },
    "kernelspec": {
      "name": "python3",
      "display_name": "Python 3"
    },
    "language_info": {
      "name": "python"
    }
  },
  "cells": [
    {
      "cell_type": "code",
      "execution_count": 1,
      "metadata": {
        "id": "ooWsof0cYPNr"
      },
      "outputs": [],
      "source": [
        "import numpy as np\n",
        "queue = np.zeros((10))\n",
        "\n",
        "head = 0\n",
        "tail = 0"
      ]
    },
    {
      "cell_type": "code",
      "source": [
        "class Queue(object):\n",
        "\n",
        "  head = 0\n",
        "\n",
        "  tail = 0\n",
        "\n",
        "  q = []\n",
        "\n",
        "\n",
        "  def __init__(self, size):\n",
        "\n",
        "    self.size = size\n",
        "\n",
        "    self.q = np.zeros((self.size))\n",
        "\n",
        "    self.__item = 0\n",
        "\n",
        "\n",
        "  def setItem(self, item):\n",
        "\n",
        "    self.__item = item\n",
        "\n",
        "\n",
        "  def enqueue(self):\n",
        "\n",
        "    if (self.tail + 1) % self.size ==  self.head:\n",
        "\n",
        "      print('Queue is full!!!')\n",
        "\n",
        "    else:\n",
        "\n",
        "      self.q[self.tail] = self.__item\n",
        "\n",
        "      self.tail = (self.tail + 1) % self.size \n",
        "\n",
        "      print(self.q)\n",
        "\n",
        "      print('Queue tail at index: {}'.format(self.tail))\n",
        "\n",
        "  def dequeue(self):\n",
        "\n",
        "    if self.head == self.tail:\n",
        "\n",
        "      print('Queue is empty!!!')\n",
        "\n",
        "    else:\n",
        "\n",
        "      print('{} is removed'. format(self.q[self.head]))\n",
        "\n",
        "      self.q[self.head] = 0\n",
        "\n",
        "      print(self.q)\n",
        "    \n",
        "      self.head = (self.head + 1) % self.size \n",
        "\n",
        "\n",
        "      print('Queue head at index: {}'.format(self.head))\n"
      ],
      "metadata": {
        "id": "WW4FaQYCaWiR"
      },
      "execution_count": 2,
      "outputs": []
    },
    {
      "cell_type": "code",
      "source": [
        "qu = Queue(5)\n",
        "\n",
        "for i in range(100,105):\n",
        "\n",
        "  qu.setItem(i)\n",
        "\n",
        "  qu.enqueue()\n"
      ],
      "metadata": {
        "colab": {
          "base_uri": "https://localhost:8080/"
        },
        "id": "mhXuHNJFdFZ8",
        "outputId": "914a0e20-f200-4ea0-ea97-2e925bae977e"
      },
      "execution_count": 3,
      "outputs": [
        {
          "output_type": "stream",
          "name": "stdout",
          "text": [
            "[100.   0.   0.   0.   0.]\n",
            "Queue tail at index: 1\n",
            "[100. 101.   0.   0.   0.]\n",
            "Queue tail at index: 2\n",
            "[100. 101. 102.   0.   0.]\n",
            "Queue tail at index: 3\n",
            "[100. 101. 102. 103.   0.]\n",
            "Queue tail at index: 4\n",
            "Queue is full!!!\n"
          ]
        }
      ]
    },
    {
      "cell_type": "code",
      "source": [
        "for i in range(3):\n",
        "\n",
        "  qu.dequeue()"
      ],
      "metadata": {
        "colab": {
          "base_uri": "https://localhost:8080/"
        },
        "id": "vZJ0WYJFjAIT",
        "outputId": "ad9e0228-b5c4-4e29-9366-d5a31b68dbff"
      },
      "execution_count": 4,
      "outputs": [
        {
          "output_type": "stream",
          "name": "stdout",
          "text": [
            "100.0 is removed\n",
            "[  0. 101. 102. 103.   0.]\n",
            "Queue head at index: 1\n",
            "101.0 is removed\n",
            "[  0.   0. 102. 103.   0.]\n",
            "Queue head at index: 2\n",
            "102.0 is removed\n",
            "[  0.   0.   0. 103.   0.]\n",
            "Queue head at index: 3\n"
          ]
        }
      ]
    },
    {
      "cell_type": "code",
      "source": [
        "for i in range(2,6):\n",
        "\n",
        "  qu.setItem(i)\n",
        "\n",
        "  qu.enqueue()"
      ],
      "metadata": {
        "colab": {
          "base_uri": "https://localhost:8080/"
        },
        "id": "Lm8p-Gx3k3Ki",
        "outputId": "a4345e31-9af5-403d-84a5-c1a5686a72ee"
      },
      "execution_count": 5,
      "outputs": [
        {
          "output_type": "stream",
          "name": "stdout",
          "text": [
            "[  0.   0.   0. 103.   2.]\n",
            "Queue tail at index: 0\n",
            "[  3.   0.   0. 103.   2.]\n",
            "Queue tail at index: 1\n",
            "[  3.   4.   0. 103.   2.]\n",
            "Queue tail at index: 2\n",
            "Queue is full!!!\n"
          ]
        }
      ]
    },
    {
      "cell_type": "code",
      "source": [
        "for i in range(5):\n",
        "  \n",
        "  qu.dequeue()"
      ],
      "metadata": {
        "colab": {
          "base_uri": "https://localhost:8080/"
        },
        "id": "ukTA7H0mmRcy",
        "outputId": "92463fc2-cac1-41e2-c16b-4b04d844fc48"
      },
      "execution_count": 6,
      "outputs": [
        {
          "output_type": "stream",
          "name": "stdout",
          "text": [
            "103.0 is removed\n",
            "[3. 4. 0. 0. 2.]\n",
            "Queue head at index: 4\n",
            "2.0 is removed\n",
            "[3. 4. 0. 0. 0.]\n",
            "Queue head at index: 0\n",
            "3.0 is removed\n",
            "[0. 4. 0. 0. 0.]\n",
            "Queue head at index: 1\n",
            "4.0 is removed\n",
            "[0. 0. 0. 0. 0.]\n",
            "Queue head at index: 2\n",
            "Queue is empty!!!\n"
          ]
        }
      ]
    }
  ]
}