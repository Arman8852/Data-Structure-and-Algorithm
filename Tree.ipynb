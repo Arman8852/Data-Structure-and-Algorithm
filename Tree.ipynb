{
 "cells": [
  {
   "cell_type": "code",
   "execution_count": 1,
   "id": "2180fa3e",
   "metadata": {},
   "outputs": [],
   "source": [
    "class TreeNode:  \n",
    "    def __init__(self, data):\n",
    "        self.data = data\n",
    "        self.parent = None\n",
    "        self.children = []\n",
    "    \n",
    "    def add_child(self, child):\n",
    "        child.parent = self\n",
    "        self.children.append(child)\n",
    "        \n",
    "    def get_level(self):\n",
    "        level = 0\n",
    "        p = self.parent  \n",
    "        while p:\n",
    "            level+=1\n",
    "            p = p.parent\n",
    "        return level\n",
    "        \n",
    "    def print_tree(self):\n",
    "        spaces = ' ' * self.get_level() * 4\n",
    "        prefix = spaces + '|--' if self.parent else ''\n",
    "        print(prefix + self.data)\n",
    "        if self.children:\n",
    "            for child in self.children:\n",
    "                child.print_tree()\n",
    "    \n",
    "def build_country_structure():\n",
    "    root = TreeNode('Bangladesh')\n",
    "    \n",
    "    chittagong = TreeNode('Chittagong')\n",
    "    chittagong.add_child(TreeNode('Rangamati'))\n",
    "    chittagong.add_child(TreeNode('Bandarban'))\n",
    "    chittagong.add_child(TreeNode('Cumilla'))\n",
    "\n",
    "    dhaka = TreeNode('Dhaka')\n",
    "    dhaka.add_child(TreeNode('Manikganj'))\n",
    "    dhaka.add_child(TreeNode('Tangail'))\n",
    "    dhaka.add_child(TreeNode('Shariatpur'))\n",
    "    \n",
    "    khulna = TreeNode('Khulna')\n",
    "    khulna.add_child(TreeNode('Bagerhat'))\n",
    "    khulna.add_child(TreeNode('Satkhira'))\n",
    "    khulna.add_child(TreeNode('Jessore'))\n",
    "    \n",
    "    root.add_child(chittagong)\n",
    "    root.add_child(dhaka)\n",
    "    root.add_child(khulna)\n",
    "    \n",
    "    return root\n",
    "\n",
    "root = build_country_structure()     "
   ]
  },
  {
   "cell_type": "code",
   "execution_count": 2,
   "id": "5e2d24cf",
   "metadata": {},
   "outputs": [
    {
     "name": "stdout",
     "output_type": "stream",
     "text": [
      "Bangladesh\n",
      "    |--Chittagong\n",
      "        |--Rangamati\n",
      "        |--Bandarban\n",
      "        |--Cumilla\n",
      "    |--Dhaka\n",
      "        |--Manikganj\n",
      "        |--Tangail\n",
      "        |--Shariatpur\n",
      "    |--Khulna\n",
      "        |--Bagerhat\n",
      "        |--Satkhira\n",
      "        |--Jessore\n"
     ]
    }
   ],
   "source": [
    "root.print_tree()"
   ]
  }
 ],
 "metadata": {
  "kernelspec": {
   "display_name": "Python 3 (ipykernel)",
   "language": "python",
   "name": "python3"
  },
  "language_info": {
   "codemirror_mode": {
    "name": "ipython",
    "version": 3
   },
   "file_extension": ".py",
   "mimetype": "text/x-python",
   "name": "python",
   "nbconvert_exporter": "python",
   "pygments_lexer": "ipython3",
   "version": "3.10.8"
  }
 },
 "nbformat": 4,
 "nbformat_minor": 5
}
