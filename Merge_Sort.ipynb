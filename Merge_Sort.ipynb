{
  "nbformat": 4,
  "nbformat_minor": 0,
  "metadata": {
    "colab": {
      "name": "Merge_Sort.ipynb",
      "provenance": []
    },
    "kernelspec": {
      "name": "python3",
      "display_name": "Python 3"
    },
    "language_info": {
      "name": "python"
    }
  },
  "cells": [
    {
      "cell_type": "code",
      "execution_count": 70,
      "metadata": {
        "id": "ITIdjR1X0HRE"
      },
      "outputs": [],
      "source": [
        "def merge_sort(arr):\n",
        "\n",
        "  if len(arr) <= 1:\n",
        "\n",
        "    return arr\n",
        "\n",
        "  left =  arr[:len(arr)//2]\n",
        "\n",
        "  right =  arr[(len(arr)//2):]\n",
        "\n",
        "  merge_sort(left)\n",
        "\n",
        "  merge_sort(right)\n",
        " \n",
        "  i = 0\n",
        "\n",
        "  j = 0\n",
        "\n",
        "  k = 0\n",
        "\n",
        "  while i < len(left) and j < len(right):\n",
        "\n",
        "      if left[i] < right[j]:\n",
        "\n",
        "       arr[k] = left[i]\n",
        "\n",
        "       i += 1\n",
        "\n",
        "      else:\n",
        "\n",
        "        arr[k] = right[j]\n",
        "\n",
        "        j += 1\n",
        "\n",
        "      k += 1\n",
        "\n",
        "  while i < len(left):\n",
        "\n",
        "      arr[k] = left[i]\n",
        "\n",
        "      i += 1 \n",
        "      k += 1\n",
        "      \n",
        "  while j < len(right):\n",
        "\n",
        "      arr[k] = right[j]\n",
        "\n",
        "      j += 1 \n",
        "      k += 1\n",
        "\n",
        "  return arr"
      ]
    },
    {
      "cell_type": "code",
      "source": [
        "import random\n",
        "numbers = []\n",
        "\n",
        "##creating a list of random numbers\n",
        "for i in range(0,5):\n",
        "  n = random.randint(10,100)\n",
        "  numbers.append(n)\n",
        "\n",
        "print('Unsorted list before merge sort\\n')\n",
        "print(numbers,'\\n')\n",
        "\n",
        "merge_sort(numbers)"
      ],
      "metadata": {
        "colab": {
          "base_uri": "https://localhost:8080/"
        },
        "id": "IXcoOvrn3399",
        "outputId": "235e00cb-2afd-4e93-f87b-2cfa694549f5"
      },
      "execution_count": 74,
      "outputs": [
        {
          "output_type": "stream",
          "name": "stdout",
          "text": [
            "Unsorted list before merge sort\n",
            "\n",
            "[38, 26, 55, 78, 21] \n",
            "\n"
          ]
        },
        {
          "output_type": "execute_result",
          "data": {
            "text/plain": [
              "[21, 26, 38, 55, 78]"
            ]
          },
          "metadata": {},
          "execution_count": 74
        }
      ]
    }
  ]
}