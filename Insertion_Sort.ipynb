{
  "nbformat": 4,
  "nbformat_minor": 0,
  "metadata": {
    "colab": {
      "name": "Insertion_Sort.ipynb",
      "provenance": []
    },
    "kernelspec": {
      "name": "python3",
      "display_name": "Python 3"
    },
    "language_info": {
      "name": "python"
    }
  },
  "cells": [
    {
      "cell_type": "markdown",
      "source": [
        "Creating a List of Random Integers"
      ],
      "metadata": {
        "id": "WlsLQHwm4Hau"
      }
    },
    {
      "cell_type": "code",
      "execution_count": 34,
      "metadata": {
        "colab": {
          "base_uri": "https://localhost:8080/"
        },
        "id": "maIJgZw_fj9O",
        "outputId": "5c92fc41-f1e1-4396-b817-0a3b085947b1"
      },
      "outputs": [
        {
          "output_type": "stream",
          "name": "stdout",
          "text": [
            "Unsorted list before selection sort\n",
            "\n",
            "[40, 5, 31, 31, 92, 30, 99, 39, 17, 52] \n",
            "\n"
          ]
        }
      ],
      "source": [
        "import random\n",
        "from time import time\n",
        "\n",
        "##creating a sorted list of random numbers\n",
        "\n",
        "A = []\n",
        "\n",
        "for i in range(0,10):\n",
        "  n = random.randint(1,100)\n",
        "  A.append(n)\n",
        "\n",
        "print('Unsorted list before selection sort\\n')\n",
        "print(A, '\\n')"
      ]
    },
    {
      "cell_type": "markdown",
      "source": [
        "Insertinon Sort (Ascending Order)"
      ],
      "metadata": {
        "id": "Fh6KekJq4fye"
      }
    },
    {
      "cell_type": "code",
      "source": [
        "A_1 = A.copy()\n",
        "\n",
        "for i in range(1,len(A_1)):\n",
        "\n",
        "  item = A_1[i]\n",
        "\n",
        "  j = i - 1\n",
        "\n",
        "  while j >= 0  and A_1[j] > item:\n",
        "\n",
        "    A_1[j+1] = A_1[j]\n",
        "\n",
        "    j = j - 1\n",
        "\n",
        "  A_1[j+1] = item\n",
        "  \n",
        "\n",
        "print('Sorted list in ascending order\\n')\n",
        "\n",
        "print(A_1, '\\n')"
      ],
      "metadata": {
        "colab": {
          "base_uri": "https://localhost:8080/"
        },
        "id": "ZLo0-IrGfxKv",
        "outputId": "d0a6a96d-457e-4524-cab5-f9fa86f5a0b8"
      },
      "execution_count": 37,
      "outputs": [
        {
          "output_type": "stream",
          "name": "stdout",
          "text": [
            "Sorted list in ascending order\n",
            "\n",
            "[5, 17, 30, 31, 31, 39, 40, 52, 92, 99] \n",
            "\n"
          ]
        }
      ]
    },
    {
      "cell_type": "markdown",
      "source": [
        "Insertion Sort (Descending Order)"
      ],
      "metadata": {
        "id": "7K4r6B0x4kcs"
      }
    },
    {
      "cell_type": "code",
      "source": [
        "A_2 = A.copy()\n",
        "\n",
        "for i in range(1,len(A_2)):\n",
        "\n",
        "  item = A_2[i]\n",
        "\n",
        "  j = i - 1\n",
        "\n",
        "  while j >= 0  and A_2[j] < item:\n",
        "\n",
        "    A_2[j+1] = A_2[j]\n",
        "\n",
        "    j = j - 1\n",
        "\n",
        "  A_2[j+1] = item\n",
        "\n",
        "\n",
        "print('Sorted list in descending order\\n')\n",
        "\n",
        "print(A_2, '\\n')"
      ],
      "metadata": {
        "colab": {
          "base_uri": "https://localhost:8080/"
        },
        "id": "cwxXXozxiA4s",
        "outputId": "6f4b117d-deae-4bc6-9d74-2329b55a4275"
      },
      "execution_count": 38,
      "outputs": [
        {
          "output_type": "stream",
          "name": "stdout",
          "text": [
            "Sorted list in descending order\n",
            "\n",
            "[99, 92, 52, 40, 39, 31, 31, 30, 17, 5] \n",
            "\n"
          ]
        }
      ]
    }
  ]
}