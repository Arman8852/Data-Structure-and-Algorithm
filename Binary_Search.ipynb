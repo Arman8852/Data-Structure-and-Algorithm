{
  "nbformat": 4,
  "nbformat_minor": 0,
  "metadata": {
    "colab": {
      "name": "Binary_Search.ipynb",
      "provenance": []
    },
    "kernelspec": {
      "name": "python3",
      "display_name": "Python 3"
    },
    "language_info": {
      "name": "python"
    }
  },
  "cells": [
    {
      "cell_type": "code",
      "execution_count": 31,
      "metadata": {
        "colab": {
          "base_uri": "https://localhost:8080/"
        },
        "id": "CToWjSBgoh84",
        "outputId": "1c6cc1de-1bf1-4493-9612-776147f2e785"
      },
      "outputs": [
        {
          "output_type": "stream",
          "name": "stdout",
          "text": [
            "List of sorted random integers: [2, 3, 4, 7, 10, 11, 12, 12, 13, 20] \n",
            "\n",
            "Number 4 has been found at index 2\n",
            "\n"
          ]
        }
      ],
      "source": [
        "import random\n",
        "A = []\n",
        "\n",
        "##creating a sorted list of random numbers\n",
        "\n",
        "for i in range(0,10):\n",
        "  n = random.randint(1,20)\n",
        "  A.append(n)\n",
        "\n",
        "A.sort()\n",
        "\n",
        "print('List of sorted random integers:', A, '\\n')\n",
        "\n",
        "##Binary sort\n",
        "\n",
        "def binary_search(num_list, search):\n",
        "\n",
        "  left = 0\n",
        "  right = len(num_list) - 1\n",
        "  \n",
        "  while left <=  right:\n",
        "\n",
        "    mid = round((left + right) / 2)\n",
        "\n",
        "    if num_list[mid] == search:\n",
        "\n",
        "      print('Number {} has been found at index {}\\n'.format(num_list[mid], mid))\n",
        "\n",
        "      return None\n",
        "\n",
        "\n",
        "    elif num_list[mid] < search:\n",
        "\n",
        "      left = mid + 1\n",
        "\n",
        "    else:\n",
        "\n",
        "      right = mid - 1 \n",
        "  \n",
        "  return 'Number is not not found in the list'\n",
        "\n",
        "\n",
        "binary_search(A, 4)"
      ]
    }
  ]
}
