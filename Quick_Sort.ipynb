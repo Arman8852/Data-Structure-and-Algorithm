{
  "nbformat": 4,
  "nbformat_minor": 0,
  "metadata": {
    "colab": {
      "name": "Quick_Sort.ipynb",
      "provenance": []
    },
    "kernelspec": {
      "name": "python3",
      "display_name": "Python 3"
    },
    "language_info": {
      "name": "python"
    }
  },
  "cells": [
    {
      "cell_type": "code",
      "execution_count": 77,
      "metadata": {
        "id": "SskOpdcmGGIo"
      },
      "outputs": [],
      "source": [
        "def partition(A, low, high):\n",
        "\n",
        "  i = low - 1\n",
        "\n",
        "  pivot = A[high]\n",
        "\n",
        "  for j in range(low,high):\n",
        "\n",
        "    if A[j] < pivot:\n",
        "\n",
        "      i += 1\n",
        "\n",
        "      placeholder =  A[i]\n",
        "\n",
        "      A[i] = A[j] \n",
        "\n",
        "      A[j] = placeholder\n",
        "\n",
        "\n",
        "  placeholder = A[high]\n",
        "\n",
        "  A[high] = A[i+1]\n",
        "\n",
        "  A[i+1] = placeholder\n",
        "\n",
        "\n",
        "  return i+1"
      ]
    },
    {
      "cell_type": "code",
      "source": [
        "##Quick Sort\n",
        "\n",
        "def quick_sort(A, low, high):\n",
        "\n",
        "  if (low >= high):\n",
        "\n",
        "    return\n",
        "    \n",
        "\n",
        "  p = partition(A, low, high)\n",
        "\n",
        "  quick_sort(A, low, p-1)\n",
        "\n",
        "  quick_sort(A, p+1, high)\n"
      ],
      "metadata": {
        "id": "mCbIQ08OIVeN"
      },
      "execution_count": 78,
      "outputs": []
    },
    {
      "cell_type": "code",
      "source": [
        "import random\n",
        "numbers = []\n",
        "\n",
        "##creating a list of random numbers\n",
        "for i in range(0,7):\n",
        "  n = random.randint(10,100)\n",
        "  numbers.append(n)\n",
        "\n",
        "print('Unsorted list\\n')\n",
        "print(numbers,'\\n')\n",
        "\n",
        "quick_sort(numbers, 0, 6)\n",
        "\n",
        "\n",
        "\n",
        "print('\\nSorted list after quick sort\\n')\n",
        "numbers"
      ],
      "metadata": {
        "colab": {
          "base_uri": "https://localhost:8080/"
        },
        "id": "whkDjEeBu3aP",
        "outputId": "dc3d61a7-46db-4441-ea68-ad57071d1a4a"
      },
      "execution_count": 81,
      "outputs": [
        {
          "output_type": "stream",
          "name": "stdout",
          "text": [
            "Unsorted list\n",
            "\n",
            "[68, 27, 84, 91, 28, 57, 100] \n",
            "\n",
            "\n",
            "Sorted list after quick sort\n",
            "\n"
          ]
        },
        {
          "output_type": "execute_result",
          "data": {
            "text/plain": [
              "[27, 28, 57, 68, 84, 91, 100]"
            ]
          },
          "metadata": {},
          "execution_count": 81
        }
      ]
    },
    {
      "cell_type": "code",
      "source": [
        "#Binary Search after Quick Sort\n",
        "\n",
        "import random\n",
        "A = []\n",
        "\n",
        "##creating a list of random numbers\n",
        "for i in range(0,7):\n",
        "  n = random.randint(0,15)\n",
        "  A.append(n)\n",
        "\n",
        "quick_sort(A, 0, 6)\n",
        "\n",
        "print('Sorted list\\n')\n",
        "print(A,'\\n')\n",
        "\n",
        "low = 0\n",
        "\n",
        "high = len(A) - 1\n",
        "\n",
        "mid = len(A)//2\n",
        "\n",
        "search = 5\n",
        "\n",
        "while low <= high:\n",
        "\n",
        "\n",
        "  if search > A[mid]:\n",
        "\n",
        "    low = mid + 1\n",
        "\n",
        "    mid = (low + high) // 2\n",
        "\n",
        "  elif search < A[mid]:\n",
        "\n",
        "    high = mid - 1\n",
        "\n",
        "    mid = (low + high) // 2\n",
        "\n",
        "  else:\n",
        "\n",
        "    print('postion: {}'.format(mid))\n",
        "\n",
        "    break"
      ],
      "metadata": {
        "colab": {
          "base_uri": "https://localhost:8080/"
        },
        "id": "qAd_jt0E79wp",
        "outputId": "c6e1fd56-5b95-473d-b241-224745964831"
      },
      "execution_count": 142,
      "outputs": [
        {
          "output_type": "stream",
          "name": "stdout",
          "text": [
            "Sorted list\n",
            "\n",
            "[5, 6, 12, 14, 14, 14, 15] \n",
            "\n",
            "postion: 0\n"
          ]
        }
      ]
    }
  ]
}