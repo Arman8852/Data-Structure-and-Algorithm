{
  "nbformat": 4,
  "nbformat_minor": 0,
  "metadata": {
    "colab": {
      "name": "Binary_Search_Bubble_Sort.ipynb",
      "provenance": []
    },
    "kernelspec": {
      "name": "python3",
      "display_name": "Python 3"
    },
    "language_info": {
      "name": "python"
    }
  },
  "cells": [
    {
      "cell_type": "code",
      "execution_count": 20,
      "metadata": {
        "colab": {
          "base_uri": "https://localhost:8080/"
        },
        "id": "cSLSDYMBRCuP",
        "outputId": "16ebf53a-39ae-4810-ac90-40f58d2f7ed5"
      },
      "outputs": [
        {
          "output_type": "stream",
          "name": "stdout",
          "text": [
            "Unsorted list before bubble sort\n",
            "\n",
            "[11, 10, 15, 20, 3, 10, 7, 7, 2, 4] \n",
            "\n",
            "Sorted list after bubble sort\n",
            "\n",
            "[2, 3, 4, 7, 7, 10, 10, 11, 15, 20] \n",
            "\n",
            "Number 4 has been found at index 2\n",
            "\n"
          ]
        }
      ],
      "source": [
        "import random\n",
        "unsorted_num_list = []\n",
        "\n",
        "##creating a list of random numbers\n",
        "\n",
        "for i in range(0,10):\n",
        "  n = random.randint(1,20)\n",
        "  unsorted_num_list.append(n)\n",
        "\n",
        "print('Unsorted list before bubble sort\\n')\n",
        "print(unsorted_num_list,'\\n')\n",
        "\n",
        "##Bubble Sort\n",
        "\n",
        "def bubble_sort(numbers_to_sort):\n",
        "\n",
        "  for i in range( len(numbers_to_sort) - 1):\n",
        "\n",
        "    for k in range( len(numbers_to_sort) - 1 - i):\n",
        "\n",
        "       if numbers_to_sort[k] > numbers_to_sort[k+1]:\n",
        "\n",
        "         placeholder = numbers_to_sort[k+1]\n",
        "\n",
        "         numbers_to_sort[k+1] = numbers_to_sort[k]\n",
        "\n",
        "         numbers_to_sort[k] = placeholder\n",
        "\n",
        "  return numbers_to_sort\n",
        "\n",
        "\n",
        "print('Sorted list after bubble sort\\n')\n",
        "print(bubble_sort(unsorted_num_list),'\\n')\n",
        "\n",
        "\n",
        "##Binary Search\n",
        "\n",
        "def binary_search(sorted_numbers, search):\n",
        "\n",
        "  left = 0\n",
        "  right = len(sorted_numbers) - 1\n",
        "  \n",
        "  while left <=  right:\n",
        "\n",
        "    mid = round((left + right) / 2)\n",
        "\n",
        "    if sorted_numbers[mid] == search:\n",
        "\n",
        "      print('Number {} has been found at index {}\\n'.format(sorted_numbers[mid], mid))\n",
        "\n",
        "      return None\n",
        "\n",
        "\n",
        "    elif sorted_numbers[mid] < search:\n",
        "\n",
        "      left = mid + 1\n",
        "\n",
        "    else:\n",
        "\n",
        "      right = mid - 1 \n",
        "  \n",
        "  return 'Number is not not found in the list'\n",
        "\n",
        "\n",
        "binary_search(bubble_sort(unsorted_num_list), 4)"
      ]
    }
  ]
}