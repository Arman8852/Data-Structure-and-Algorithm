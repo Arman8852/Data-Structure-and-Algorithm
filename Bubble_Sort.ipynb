{
  "nbformat": 4,
  "nbformat_minor": 0,
  "metadata": {
    "colab": {
      "name": "Bubble_Sort.ipynb",
      "provenance": []
    },
    "kernelspec": {
      "name": "python3",
      "display_name": "Python 3"
    },
    "language_info": {
      "name": "python"
    }
  },
  "cells": [
    {
      "cell_type": "code",
      "execution_count": 27,
      "metadata": {
        "colab": {
          "base_uri": "https://localhost:8080/"
        },
        "id": "3xeukn1VCha-",
        "outputId": "50a34028-d1a5-4741-a2a9-30471d6245ba"
      },
      "outputs": [
        {
          "output_type": "stream",
          "name": "stdout",
          "text": [
            "Unsorted list before bubble sort\n",
            "\n",
            "[49, 51, 100, 74, 37, 45, 25, 96, 78, 80] \n",
            "\n",
            "Sorted list after bubble sort\n",
            "\n",
            "[25, 37, 45, 49, 51, 74, 78, 80, 96, 100]\n"
          ]
        }
      ],
      "source": [
        "import random\n",
        "numbers = []\n",
        "\n",
        "\n",
        "##creating a list of random numbers\n",
        "for i in range(0,10):\n",
        "  n = random.randint(10,100)\n",
        "  numbers.append(n)\n",
        "\n",
        "print('Unsorted list before bubble sort\\n')\n",
        "print(numbers,'\\n')\n",
        "\n",
        "##Bubble Sort\n",
        "\n",
        "for i in range( len(numbers) - 1):\n",
        "\n",
        "  for k in range( len(numbers) - 1 - i):\n",
        "\n",
        "    if numbers[k] > numbers[k+1]:\n",
        "\n",
        "      placeholder = numbers[k+1]\n",
        "\n",
        "      numbers[k+1] = numbers[k]\n",
        "\n",
        "      numbers[k] = placeholder\n",
        "\n",
        "print('Sorted list after bubble sort\\n') \n",
        "print(numbers)"
      ]
    }
  ]
}