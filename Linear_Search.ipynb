{
  "nbformat": 4,
  "nbformat_minor": 0,
  "metadata": {
    "colab": {
      "name": "Linear_Search.ipynb",
      "provenance": []
    },
    "kernelspec": {
      "name": "python3",
      "display_name": "Python 3"
    },
    "language_info": {
      "name": "python"
    }
  },
  "cells": [
    {
      "cell_type": "code",
      "execution_count": 53,
      "metadata": {
        "colab": {
          "base_uri": "https://localhost:8080/"
        },
        "id": "ZFdCBT_k5ydq",
        "outputId": "db3e8fb3-8e72-469a-b643-f3e991fa6a4a"
      },
      "outputs": [
        {
          "output_type": "stream",
          "name": "stdout",
          "text": [
            "{'English': 80, 'Math': 79, 'Science': 81, 'Geography': 75, 'Spanish': 82}\n",
            "\n",
            "Number in English: 80\n",
            "\n",
            "\n",
            "Student did not get 80 in any subject\n"
          ]
        }
      ],
      "source": [
        "import random\n",
        "numbers = []\n",
        "subjects = ['English', 'Math', 'Science', 'Geography', 'Spanish']\n",
        "num_dict = {}\n",
        "search = 80\n",
        "\n",
        "##creating a list of random numbers\n",
        "for i in range(0,5):\n",
        "  n = random.randint(75,85)\n",
        "  numbers.append(n)\n",
        "\n",
        "##creating a dictionary\n",
        "for num, sub in zip(numbers, subjects):\n",
        "\n",
        "  num_dict[sub] = num\n",
        "\n",
        "print(num_dict)\n",
        "\n",
        "\n",
        "##Linear Sort\n",
        "for idx, sub in enumerate(num_dict):\n",
        "\n",
        "  if num_dict[sub] == search:\n",
        "\n",
        "    print('\\nNumber in {}: {}\\n'. format(sub, num_dict[sub]))\n",
        "\n",
        "\n",
        "print('\\nStudent did not get {} in any subject'. format(search))  "
      ]
    }
  ]
}