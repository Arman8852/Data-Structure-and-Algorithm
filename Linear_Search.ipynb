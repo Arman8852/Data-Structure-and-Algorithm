{
  "nbformat": 4,
  "nbformat_minor": 0,
  "metadata": {
    "colab": {
      "name": "Linear_Search.ipynb",
      "provenance": []
    },
    "kernelspec": {
      "name": "python3",
      "display_name": "Python 3"
    },
    "language_info": {
      "name": "python"
    }
  },
  "cells": [
    {
      "cell_type": "code",
      "execution_count": 63,
      "metadata": {
        "colab": {
          "base_uri": "https://localhost:8080/"
        },
        "id": "ZFdCBT_k5ydq",
        "outputId": "23869936-be5d-4548-d415-797c95086400"
      },
      "outputs": [
        {
          "output_type": "stream",
          "name": "stdout",
          "text": [
            "{'English': 75, 'Math': 82, 'Science': 81, 'Geography': 80, 'Spanish': 81}\n",
            "\n",
            "Number in Geography: 80\n",
            "\n"
          ]
        }
      ],
      "source": [
        "import random\n",
        "numbers = []\n",
        "subjects = ['English', 'Math', 'Science', 'Geography', 'Spanish']\n",
        "num_dict = {}\n",
        "search = 80\n",
        "\n",
        "##creating a list of random numbers\n",
        "for i in range(0,5):\n",
        "  n = random.randint(75,85)\n",
        "  numbers.append(n)\n",
        "\n",
        "##creating a dictionary\n",
        "for num, sub in zip(numbers, subjects):\n",
        "\n",
        "  num_dict[sub] = num\n",
        "\n",
        "print(num_dict)\n",
        "\n",
        "\n",
        "##Linear Sort\n",
        "for idx, sub in enumerate(num_dict):\n",
        "\n",
        "  if num_dict[sub] == search:\n",
        "\n",
        "    print('\\nNumber in {}: {}\\n'. format(sub, num_dict[sub]))\n",
        "\n",
        "    break\n",
        "\n",
        "  elif(idx == len(num_dict)-1):\n",
        "\n",
        "    print('\\nStudent did not get {} in any subject'. format(search)) "
      ]
    }
  ]
}