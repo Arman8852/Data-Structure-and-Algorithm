{
  "nbformat": 4,
  "nbformat_minor": 0,
  "metadata": {
    "colab": {
      "name": "Selection_Sort_V2.ipynb",
      "provenance": [],
      "collapsed_sections": []
    },
    "kernelspec": {
      "name": "python3",
      "display_name": "Python 3"
    },
    "language_info": {
      "name": "python"
    }
  },
  "cells": [
    {
      "cell_type": "markdown",
      "source": [
        "Creating a List of Random Integers"
      ],
      "metadata": {
        "id": "91J0NLYAcnJl"
      }
    },
    {
      "cell_type": "code",
      "source": [
        "import random\n",
        "from time import time\n",
        "\n",
        "##creating a sorted list of random numbers\n",
        "\n",
        "A = []\n",
        "\n",
        "for i in range(0,20):\n",
        "  n = random.randint(1,100)\n",
        "  A.append(n)\n",
        "\n",
        "print('Unsorted list before selection sort\\n')\n",
        "print(A, '\\n')"
      ],
      "metadata": {
        "colab": {
          "base_uri": "https://localhost:8080/"
        },
        "id": "dtA11Cm-ckf2",
        "outputId": "1a19ba4a-ac5e-4529-d35f-3a034def04ba"
      },
      "execution_count": 29,
      "outputs": [
        {
          "output_type": "stream",
          "name": "stdout",
          "text": [
            "Unsorted list before selection sort\n",
            "\n",
            "[70, 92, 34, 41, 27, 42, 72, 36, 17, 92, 27, 2, 58, 44, 14, 74, 14, 62, 29, 57] \n",
            "\n"
          ]
        }
      ]
    },
    {
      "cell_type": "markdown",
      "source": [
        "Selection Sort (My Version)"
      ],
      "metadata": {
        "id": "sC19Ds-LbRq5"
      }
    },
    {
      "cell_type": "code",
      "source": [
        "t0 = time()\n",
        "\n",
        "#Selection Sort\n",
        "\n",
        "A_1 = A.copy()\n",
        "\n",
        "for i in range (len(A_1)-1):\n",
        "\n",
        "  for k in range(i+1, len(A_1)):\n",
        "\n",
        "    if A_1[i] > A_1[k]:\n",
        "\n",
        "      placeholder = A_1[k] \n",
        "\n",
        "      A_1[k] = A_1[i]\n",
        "\n",
        "      A_1[i] = placeholder\n",
        "\n",
        "t1 = time()\n",
        "\n",
        "print('\\nTime taken by my version of selection sort algorithm:', (t1-t0),'\\n')\n",
        "\n",
        "print('Sorted list after selection sort\\n')\n",
        "\n",
        "print(A_1)\n",
        "  "
      ],
      "metadata": {
        "colab": {
          "base_uri": "https://localhost:8080/"
        },
        "id": "N0aT8L8EbO-A",
        "outputId": "06ec8168-9c1d-48f1-d63d-abddda96fea9"
      },
      "execution_count": 30,
      "outputs": [
        {
          "output_type": "stream",
          "name": "stdout",
          "text": [
            "\n",
            "Time taken by my version of selection sort algorithm: 0.00018143653869628906 \n",
            "\n",
            "Sorted list after selection sort\n",
            "\n",
            "[2, 14, 14, 17, 27, 27, 29, 34, 36, 41, 42, 44, 57, 58, 62, 70, 72, 74, 92, 92]\n"
          ]
        }
      ]
    },
    {
      "cell_type": "markdown",
      "source": [
        "Selection Sort (Universal Version)"
      ],
      "metadata": {
        "id": "h-oyJma3bgdu"
      }
    },
    {
      "cell_type": "code",
      "execution_count": 31,
      "metadata": {
        "colab": {
          "base_uri": "https://localhost:8080/"
        },
        "id": "OM_N4OlAVO6w",
        "outputId": "b2411109-6a6f-4953-887b-151f39901ce0"
      },
      "outputs": [
        {
          "output_type": "stream",
          "name": "stdout",
          "text": [
            "\n",
            "Time taken by universal selection sort algorithm: 0.000225067138671875 \n",
            "\n",
            "Sorted list after selection sort\n",
            "\n",
            "[2, 14, 14, 17, 27, 27, 29, 34, 36, 41, 42, 44, 57, 58, 62, 70, 72, 74, 92, 92]\n"
          ]
        }
      ],
      "source": [
        "t0 = time()\n",
        "\n",
        "#Selection Sort\n",
        "\n",
        "A_2 = A.copy()\n",
        "\n",
        "for i in range (len(A_2)-1):\n",
        "\n",
        "  idx_min = i\n",
        "\n",
        "  for k in range(i+1, len(A_2)):\n",
        "\n",
        "    if A_2[k] < A_2[idx_min]:\n",
        "\n",
        "      idx_min = k\n",
        "\n",
        "  if i != idx_min:\n",
        "\n",
        "    placeholder = A_2[i]\n",
        "\n",
        "    A_2[i] = A_2[idx_min]\n",
        "\n",
        "    A_2[idx_min] = placeholder\n",
        "\n",
        "t1 = time()\n",
        "\n",
        "print('\\nTime taken by universal selection sort algorithm:', (t1-t0),'\\n')\n",
        "\n",
        "print('Sorted list after selection sort\\n')\n",
        "\n",
        "print(A_2)"
      ]
    },
    {
      "cell_type": "code",
      "source": [
        "##Check if the two sort algorithms return same sorted lists\n",
        "\n",
        "assert A_1 == A_2, \"Two algorithms do not return same sorted lists\""
      ],
      "metadata": {
        "id": "eCUiFYgpeMAW"
      },
      "execution_count": 32,
      "outputs": []
    }
  ]
}